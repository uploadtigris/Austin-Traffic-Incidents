{
 "cells": [
  {
   "cell_type": "markdown",
   "id": "8b78be82-8183-489e-a426-90f76b21452f",
   "metadata": {},
   "source": [
    "# Austin Traffic Incidents GIS Analysis"
   ]
  },
  {
   "cell_type": "markdown",
   "id": "9984fd23-d4ab-47ac-b08c-6d6308927cea",
   "metadata": {},
   "source": [
    "## 1. Introduction"
   ]
  },
  {
   "cell_type": "markdown",
   "id": "ce57bfb9-aaf5-4030-98d0-0ac5bf88fe13",
   "metadata": {},
   "source": [
    "### Description"
   ]
  },
  {
   "cell_type": "markdown",
   "id": "128cefde-c101-44f0-b7df-5ea49dd6cbea",
   "metadata": {},
   "source": [
    "### Data Source Overview"
   ]
  },
  {
   "cell_type": "markdown",
   "id": "ef1c1c55-f77b-4fe1-aaa2-32084dd1c31c",
   "metadata": {},
   "source": [
    "## 2. PostgreSQL Database Connection"
   ]
  },
  {
   "cell_type": "markdown",
   "id": "25e80fb9-99d5-45b9-95a7-871c852c39fd",
   "metadata": {},
   "source": [
    "### Connect to PostgreSQL database using SQLAlchemy"
   ]
  },
  {
   "cell_type": "markdown",
   "id": "fafdf00c-cd25-492a-aec8-d7f5aa52d899",
   "metadata": {},
   "source": [
    "## 3. Data Extraction: Pulling 10 Years of Incidents"
   ]
  },
  {
   "cell_type": "markdown",
   "id": "3ed3587f-653b-4e1f-bac1-fea8a3627f94",
   "metadata": {},
   "source": [
    "### SQL query to pull traffic incidents from the last 10 years"
   ]
  },
  {
   "cell_type": "markdown",
   "id": "20953ba8-a060-4f29-9672-b5c6ad212aba",
   "metadata": {},
   "source": [
    "### Load the results into a Pandas DataFrame"
   ]
  },
  {
   "cell_type": "markdown",
   "id": "206aad89-01b1-424e-a046-162eec3a97eb",
   "metadata": {},
   "source": [
    "## 4. Date Range Inspection"
   ]
  },
  {
   "cell_type": "markdown",
   "id": "0677acee-ad26-44a9-87fc-48fc4c41b585",
   "metadata": {},
   "source": [
    "### Display the first and last dates of incidents in the dataset"
   ]
  },
  {
   "cell_type": "markdown",
   "id": "c3c8936e-62d9-47c6-b323-9bf4f2c52039",
   "metadata": {},
   "source": [
    "### Confirm coverage of full time period"
   ]
  },
  {
   "cell_type": "markdown",
   "id": "499eb934-c1be-41de-bb0c-5586143ad139",
   "metadata": {},
   "source": [
    "## 5. Distribution of Traffic Incidents"
   ]
  },
  {
   "cell_type": "markdown",
   "id": "a581b42b-ac29-441c-9c5c-082290fab4bf",
   "metadata": {},
   "source": [
    "### Histogram showing the number of incidents per year/month"
   ]
  },
  {
   "cell_type": "markdown",
   "id": "7887e64a-7b1e-4816-97e3-dcd54942dbce",
   "metadata": {},
   "source": [
    "### Show incidents by type and status"
   ]
  },
  {
   "cell_type": "markdown",
   "id": "13f75ad5-8d50-4721-8832-e2fc19565882",
   "metadata": {},
   "source": [
    "## 6. Handling Missing Values"
   ]
  },
  {
   "cell_type": "markdown",
   "id": "29ba64d9-c06d-438f-a8f2-a1c0f7401fb0",
   "metadata": {},
   "source": [
    "### Identify and visualize columns with missing data"
   ]
  },
  {
   "cell_type": "markdown",
   "id": "d6c9afdc-7d91-4dc7-91cb-574add356792",
   "metadata": {},
   "source": [
    "### Fill or remove missing values as appropriate"
   ]
  },
  {
   "cell_type": "markdown",
   "id": "aeae947d-946d-498b-bb44-ddf0250ed9c4",
   "metadata": {},
   "source": [
    "### Decisions and rationale"
   ]
  },
  {
   "cell_type": "markdown",
   "id": "f4ae785f-bf54-4b8e-ac08-e17264254857",
   "metadata": {},
   "source": [
    "## 7. Data Cleaning & Transformation for ArcGIS Pro"
   ]
  },
  {
   "cell_type": "markdown",
   "id": "4b08d434-edd9-4906-805b-50c0be551899",
   "metadata": {},
   "source": [
    "### Ensure the DataFrame includes one latitude and one longitude column"
   ]
  },
  {
   "cell_type": "markdown",
   "id": "64d45211-93ac-4468-9b42-b84105e37e91",
   "metadata": {},
   "source": [
    "### Drop unnecesssary columns"
   ]
  },
  {
   "cell_type": "markdown",
   "id": "5d5ece6f-9312-4139-8ebe-0dbba427d5bb",
   "metadata": {},
   "source": [
    "### Convert datatime columns"
   ]
  },
  {
   "cell_type": "markdown",
   "id": "f71a3f72-6f1a-4bcc-962d-a204b2540da9",
   "metadata": {},
   "source": [
    "### Export geometry as `POINT`"
   ]
  },
  {
   "cell_type": "markdown",
   "id": "eaee03f3-521b-4fcd-aa35-6f75feadc0c7",
   "metadata": {},
   "source": [
    "## 8. Basic Data Visualization"
   ]
  },
  {
   "cell_type": "markdown",
   "id": "63dd287b-a514-458f-8305-04c0f665320a",
   "metadata": {},
   "source": [
    "### Summary statistics (incident count, average per day/month, etc.)"
   ]
  },
  {
   "cell_type": "markdown",
   "id": "4efabd86-2881-4efb-a991-cc3a6b43d1ed",
   "metadata": {},
   "source": [
    "### Visualize top incident types and most affected locations"
   ]
  },
  {
   "cell_type": "markdown",
   "id": "cd4682f8-fc20-454f-b16d-03c5dd765e3d",
   "metadata": {},
   "source": [
    "### Create maps using Folium or GeoPandas"
   ]
  },
  {
   "cell_type": "markdown",
   "id": "0c9f67ef-6d0b-4cea-b7ea-d9b34825a480",
   "metadata": {},
   "source": [
    "## 9. Export to ArcGIS-Compatible Format (CSV)"
   ]
  },
  {
   "cell_type": "markdown",
   "id": "d77e1460-89fb-4988-86d3-52cc532b5b94",
   "metadata": {},
   "source": [
    "## 10. Conclusion & Next Steps"
   ]
  },
  {
   "cell_type": "markdown",
   "id": "448bbae3-9c52-4f91-a832-714e66307d30",
   "metadata": {},
   "source": [
    "### Key Insights"
   ]
  },
  {
   "cell_type": "markdown",
   "id": "5627f4fd-b797-49d2-ab62-b1a7c87b5f9c",
   "metadata": {},
   "source": [
    "### Next steps"
   ]
  }
 ],
 "metadata": {
  "kernelspec": {
   "display_name": "Python 3 (ipykernel)",
   "language": "python",
   "name": "python3"
  },
  "language_info": {
   "codemirror_mode": {
    "name": "ipython",
    "version": 3
   },
   "file_extension": ".py",
   "mimetype": "text/x-python",
   "name": "python",
   "nbconvert_exporter": "python",
   "pygments_lexer": "ipython3",
   "version": "3.11.10"
  }
 },
 "nbformat": 4,
 "nbformat_minor": 5
}
